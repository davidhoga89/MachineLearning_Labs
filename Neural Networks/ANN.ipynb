{
 "cells": [
  {
   "cell_type": "code",
   "execution_count": 2,
   "metadata": {},
   "outputs": [],
   "source": [
    "import numpy as np\n",
    "import matplotlib.pyplot as plt\n",
    "import pandas as pd\n",
    "dataset = pd.read_csv('dataset/Churn_Modelling.csv')"
   ]
  },
  {
   "cell_type": "code",
   "execution_count": 6,
   "metadata": {},
   "outputs": [],
   "source": [
    "\n",
    "X = dataset.iloc[:, 3:13].values\n",
    "y = dataset.iloc[:, 13].values"
   ]
  },
  {
   "cell_type": "code",
   "execution_count": 7,
   "metadata": {},
   "outputs": [
    {
     "data": {
      "text/plain": [
       "array([[619, 'France', 'Female', ..., 1, 1, 101348.88],\n",
       "       [608, 'Spain', 'Female', ..., 0, 1, 112542.58],\n",
       "       [502, 'France', 'Female', ..., 1, 0, 113931.57],\n",
       "       ...,\n",
       "       [709, 'France', 'Female', ..., 0, 1, 42085.58],\n",
       "       [772, 'Germany', 'Male', ..., 1, 0, 92888.52],\n",
       "       [792, 'France', 'Female', ..., 1, 0, 38190.78]], dtype=object)"
      ]
     },
     "execution_count": 7,
     "metadata": {},
     "output_type": "execute_result"
    }
   ],
   "source": [
    "X"
   ]
  },
  {
   "cell_type": "code",
   "execution_count": null,
   "metadata": {},
   "outputs": [],
   "source": []
  },
  {
   "cell_type": "code",
   "execution_count": 8,
   "metadata": {},
   "outputs": [
    {
     "data": {
      "text/plain": [
       "array([1, 0, 1, ..., 1, 1, 0])"
      ]
     },
     "execution_count": 8,
     "metadata": {},
     "output_type": "execute_result"
    }
   ],
   "source": [
    "y"
   ]
  },
  {
   "cell_type": "code",
   "execution_count": null,
   "metadata": {},
   "outputs": [],
   "source": []
  },
  {
   "cell_type": "code",
   "execution_count": 9,
   "metadata": {},
   "outputs": [],
   "source": [
    "from sklearn.preprocessing import LabelEncoder, OneHotEncoder"
   ]
  },
  {
   "cell_type": "code",
   "execution_count": null,
   "metadata": {},
   "outputs": [],
   "source": []
  },
  {
   "cell_type": "code",
   "execution_count": 10,
   "metadata": {
    "scrolled": true
   },
   "outputs": [
    {
     "data": {
      "text/plain": [
       "array([0., 1., 0., ..., 0., 0., 0.])"
      ]
     },
     "execution_count": 10,
     "metadata": {},
     "output_type": "execute_result"
    }
   ],
   "source": [
    "labelencoder_X_1 = LabelEncoder()\n",
    "X[:, 1] = labelencoder_X_1.fit_transform(X[:, 1])\n",
    "labelencoder_X_2 = LabelEncoder()\n",
    "X[:, 2] = labelencoder_X_2.fit_transform(X[:, 2])\n",
    "onehotencoder = OneHotEncoder(categorical_features = [1])\n",
    "X = onehotencoder.fit_transform(X).toarray()\n",
    "X = X[:, 1:]\n",
    "X[:,1]"
   ]
  },
  {
   "cell_type": "code",
   "execution_count": null,
   "metadata": {},
   "outputs": [],
   "source": []
  },
  {
   "cell_type": "code",
   "execution_count": 11,
   "metadata": {},
   "outputs": [
    {
     "data": {
      "text/plain": [
       "array([1, 0, 1, ..., 1, 1, 0])"
      ]
     },
     "execution_count": 11,
     "metadata": {},
     "output_type": "execute_result"
    }
   ],
   "source": [
    "y"
   ]
  },
  {
   "cell_type": "code",
   "execution_count": null,
   "metadata": {},
   "outputs": [],
   "source": []
  },
  {
   "cell_type": "code",
   "execution_count": 12,
   "metadata": {},
   "outputs": [],
   "source": [
    "# Splitting the dataset into the Training set and Test set\n",
    "from sklearn.model_selection import train_test_split\n",
    "# X, y initial data\n",
    "# test_size, percentage of data to be tested\n",
    "# random_state, way to split data. (Random generator)\n",
    "X_train, X_test, y_train, y_test = train_test_split(X, y, test_size = 0.2, random_state = 0)"
   ]
  },
  {
   "cell_type": "code",
   "execution_count": null,
   "metadata": {},
   "outputs": [],
   "source": []
  },
  {
   "cell_type": "code",
   "execution_count": 13,
   "metadata": {},
   "outputs": [
    {
     "name": "stdout",
     "output_type": "stream",
     "text": [
      "8000 _ 8000\n"
     ]
    }
   ],
   "source": [
    "print (\"{} _ {}\".format(len(X_train) , len(y_train)))"
   ]
  },
  {
   "cell_type": "code",
   "execution_count": null,
   "metadata": {},
   "outputs": [],
   "source": []
  },
  {
   "cell_type": "code",
   "execution_count": 14,
   "metadata": {},
   "outputs": [
    {
     "name": "stdout",
     "output_type": "stream",
     "text": [
      "2000 _ 2000\n"
     ]
    }
   ],
   "source": [
    "print (\"{} _ {}\".format(len(X_test) , len(y_test)))"
   ]
  },
  {
   "cell_type": "code",
   "execution_count": null,
   "metadata": {},
   "outputs": [],
   "source": []
  },
  {
   "cell_type": "code",
   "execution_count": 15,
   "metadata": {},
   "outputs": [
    {
     "data": {
      "text/plain": [
       "array([[-0.5698444 ,  1.74309049,  0.16958176, ...,  0.64259497,\n",
       "        -1.03227043,  1.10643166],\n",
       "       [ 1.75486502, -0.57369368, -2.30455945, ...,  0.64259497,\n",
       "         0.9687384 , -0.74866447],\n",
       "       [-0.5698444 , -0.57369368, -1.19119591, ...,  0.64259497,\n",
       "        -1.03227043,  1.48533467],\n",
       "       ...,\n",
       "       [-0.5698444 , -0.57369368,  0.9015152 , ...,  0.64259497,\n",
       "        -1.03227043,  1.41231994],\n",
       "       [-0.5698444 ,  1.74309049, -0.62420521, ...,  0.64259497,\n",
       "         0.9687384 ,  0.84432121],\n",
       "       [ 1.75486502, -0.57369368, -0.28401079, ...,  0.64259497,\n",
       "        -1.03227043,  0.32472465]])"
      ]
     },
     "execution_count": 15,
     "metadata": {},
     "output_type": "execute_result"
    }
   ],
   "source": [
    "# Feature Scaling\n",
    "from sklearn.preprocessing import StandardScaler\n",
    "sc = StandardScaler()\n",
    "X_train = sc.fit_transform(X_train)\n",
    "X_test = sc.transform(X_test)\n",
    "X_train"
   ]
  },
  {
   "cell_type": "code",
   "execution_count": null,
   "metadata": {},
   "outputs": [],
   "source": []
  },
  {
   "cell_type": "code",
   "execution_count": 18,
   "metadata": {},
   "outputs": [
    {
     "name": "stderr",
     "output_type": "stream",
     "text": [
      "Using TensorFlow backend.\n"
     ]
    }
   ],
   "source": [
    "# Part 2 - Now let's make the ANN!\n",
    "\n",
    "# Importing the Keras libraries and packages\n",
    "import keras\n",
    "from keras.models import Sequential\n",
    "from keras.layers import Dense\n"
   ]
  },
  {
   "cell_type": "code",
   "execution_count": null,
   "metadata": {},
   "outputs": [],
   "source": []
  },
  {
   "cell_type": "code",
   "execution_count": null,
   "metadata": {},
   "outputs": [],
   "source": []
  },
  {
   "cell_type": "code",
   "execution_count": null,
   "metadata": {},
   "outputs": [],
   "source": []
  },
  {
   "cell_type": "code",
   "execution_count": 19,
   "metadata": {},
   "outputs": [
    {
     "name": "stderr",
     "output_type": "stream",
     "text": [
      "/anaconda3/lib/python3.6/site-packages/ipykernel_launcher.py:6: UserWarning: Update your `Dense` call to the Keras 2 API: `Dense(activation=\"relu\", input_dim=11, units=6, kernel_initializer=\"uniform\")`\n",
      "  \n",
      "/anaconda3/lib/python3.6/site-packages/ipykernel_launcher.py:9: UserWarning: Update your `Dense` call to the Keras 2 API: `Dense(activation=\"relu\", units=6, kernel_initializer=\"uniform\")`\n",
      "  if __name__ == '__main__':\n",
      "/anaconda3/lib/python3.6/site-packages/ipykernel_launcher.py:12: UserWarning: Update your `Dense` call to the Keras 2 API: `Dense(activation=\"sigmoid\", units=1, kernel_initializer=\"uniform\")`\n",
      "  if sys.path[0] == '':\n",
      "/anaconda3/lib/python3.6/site-packages/ipykernel_launcher.py:22: UserWarning: The `nb_epoch` argument in `fit` has been renamed `epochs`.\n"
     ]
    },
    {
     "name": "stdout",
     "output_type": "stream",
     "text": [
      "Epoch 1/100\n",
      "8000/8000 [==============================] - 2s 225us/step - loss: 0.4836 - acc: 0.7956\n",
      "Epoch 2/100\n",
      "8000/8000 [==============================] - 1s 161us/step - loss: 0.4272 - acc: 0.7960\n",
      "Epoch 3/100\n",
      "8000/8000 [==============================] - 1s 160us/step - loss: 0.4218 - acc: 0.8001\n",
      "Epoch 4/100\n",
      "8000/8000 [==============================] - 1s 157us/step - loss: 0.4180 - acc: 0.8255\n",
      "Epoch 5/100\n",
      "8000/8000 [==============================] - 1s 166us/step - loss: 0.4153 - acc: 0.8284\n",
      "Epoch 6/100\n",
      "8000/8000 [==============================] - 1s 163us/step - loss: 0.4136 - acc: 0.8316\n",
      "Epoch 7/100\n",
      "8000/8000 [==============================] - 1s 159us/step - loss: 0.4119 - acc: 0.8320\n",
      "Epoch 8/100\n",
      "8000/8000 [==============================] - 1s 157us/step - loss: 0.4110 - acc: 0.8329\n",
      "Epoch 9/100\n",
      "8000/8000 [==============================] - 1s 159us/step - loss: 0.4098 - acc: 0.8345\n",
      "Epoch 10/100\n",
      "8000/8000 [==============================] - 1s 165us/step - loss: 0.4089 - acc: 0.8336\n",
      "Epoch 11/100\n",
      "8000/8000 [==============================] - 1s 165us/step - loss: 0.4083 - acc: 0.8339\n",
      "Epoch 12/100\n",
      "8000/8000 [==============================] - 1s 175us/step - loss: 0.4077 - acc: 0.8349\n",
      "Epoch 13/100\n",
      "8000/8000 [==============================] - 1s 171us/step - loss: 0.4073 - acc: 0.8341\n",
      "Epoch 14/100\n",
      "8000/8000 [==============================] - 1s 163us/step - loss: 0.4065 - acc: 0.8351\n",
      "Epoch 15/100\n",
      "8000/8000 [==============================] - 1s 177us/step - loss: 0.4062 - acc: 0.8346\n",
      "Epoch 16/100\n",
      "8000/8000 [==============================] - 1s 183us/step - loss: 0.4056 - acc: 0.8355\n",
      "Epoch 17/100\n",
      "8000/8000 [==============================] - 1s 164us/step - loss: 0.4056 - acc: 0.8346\n",
      "Epoch 18/100\n",
      "8000/8000 [==============================] - 1s 164us/step - loss: 0.4051 - acc: 0.8354\n",
      "Epoch 19/100\n",
      "8000/8000 [==============================] - 2s 204us/step - loss: 0.4046 - acc: 0.8339\n",
      "Epoch 20/100\n",
      "8000/8000 [==============================] - 1s 164us/step - loss: 0.4048 - acc: 0.8349\n",
      "Epoch 21/100\n",
      "8000/8000 [==============================] - 1s 156us/step - loss: 0.4038 - acc: 0.8335\n",
      "Epoch 22/100\n",
      "8000/8000 [==============================] - 1s 159us/step - loss: 0.4041 - acc: 0.8335\n",
      "Epoch 23/100\n",
      "8000/8000 [==============================] - 1s 158us/step - loss: 0.4040 - acc: 0.8347\n",
      "Epoch 24/100\n",
      "8000/8000 [==============================] - 1s 164us/step - loss: 0.4037 - acc: 0.8349\n",
      "Epoch 25/100\n",
      "8000/8000 [==============================] - 1s 164us/step - loss: 0.4036 - acc: 0.8357\n",
      "Epoch 26/100\n",
      "8000/8000 [==============================] - 2s 191us/step - loss: 0.4037 - acc: 0.8352\n",
      "Epoch 27/100\n",
      "8000/8000 [==============================] - 1s 179us/step - loss: 0.4034 - acc: 0.8354\n",
      "Epoch 28/100\n",
      "8000/8000 [==============================] - 1s 173us/step - loss: 0.4031 - acc: 0.8335\n",
      "Epoch 29/100\n",
      "8000/8000 [==============================] - 1s 163us/step - loss: 0.4030 - acc: 0.8346\n",
      "Epoch 30/100\n",
      "8000/8000 [==============================] - 1s 162us/step - loss: 0.4026 - acc: 0.8351\n",
      "Epoch 31/100\n",
      "8000/8000 [==============================] - 1s 161us/step - loss: 0.4026 - acc: 0.8332\n",
      "Epoch 32/100\n",
      "8000/8000 [==============================] - 1s 159us/step - loss: 0.4024 - acc: 0.8352\n",
      "Epoch 33/100\n",
      "8000/8000 [==============================] - 1s 159us/step - loss: 0.4024 - acc: 0.8332\n",
      "Epoch 34/100\n",
      "8000/8000 [==============================] - 1s 156us/step - loss: 0.4026 - acc: 0.8345\n",
      "Epoch 35/100\n",
      "8000/8000 [==============================] - 1s 158us/step - loss: 0.4021 - acc: 0.8344\n",
      "Epoch 36/100\n",
      "8000/8000 [==============================] - 1s 164us/step - loss: 0.4020 - acc: 0.8349\n",
      "Epoch 37/100\n",
      "8000/8000 [==============================] - 1s 162us/step - loss: 0.4022 - acc: 0.8354\n",
      "Epoch 38/100\n",
      "8000/8000 [==============================] - 1s 160us/step - loss: 0.4019 - acc: 0.8337\n",
      "Epoch 39/100\n",
      "8000/8000 [==============================] - 1s 164us/step - loss: 0.4017 - acc: 0.8330\n",
      "Epoch 40/100\n",
      "8000/8000 [==============================] - 2s 221us/step - loss: 0.4016 - acc: 0.8346\n",
      "Epoch 41/100\n",
      "8000/8000 [==============================] - 1s 180us/step - loss: 0.4019 - acc: 0.8340\n",
      "Epoch 42/100\n",
      "8000/8000 [==============================] - 1s 161us/step - loss: 0.4015 - acc: 0.8347\n",
      "Epoch 43/100\n",
      "8000/8000 [==============================] - 1s 152us/step - loss: 0.4016 - acc: 0.8346\n",
      "Epoch 44/100\n",
      "8000/8000 [==============================] - 1s 160us/step - loss: 0.4013 - acc: 0.8331\n",
      "Epoch 45/100\n",
      "8000/8000 [==============================] - 1s 162us/step - loss: 0.4018 - acc: 0.8344\n",
      "Epoch 46/100\n",
      "8000/8000 [==============================] - 1s 159us/step - loss: 0.4016 - acc: 0.8344\n",
      "Epoch 47/100\n",
      "8000/8000 [==============================] - 1s 159us/step - loss: 0.4013 - acc: 0.8346\n",
      "Epoch 48/100\n",
      "8000/8000 [==============================] - 1s 157us/step - loss: 0.4015 - acc: 0.8361\n",
      "Epoch 49/100\n",
      "8000/8000 [==============================] - 1s 168us/step - loss: 0.4012 - acc: 0.8351\n",
      "Epoch 50/100\n",
      "8000/8000 [==============================] - 1s 160us/step - loss: 0.4017 - acc: 0.8340\n",
      "Epoch 51/100\n",
      "8000/8000 [==============================] - 1s 160us/step - loss: 0.4016 - acc: 0.8349\n",
      "Epoch 52/100\n",
      "8000/8000 [==============================] - 1s 157us/step - loss: 0.4007 - acc: 0.8354\n",
      "Epoch 53/100\n",
      "8000/8000 [==============================] - 1s 155us/step - loss: 0.4014 - acc: 0.8357\n",
      "Epoch 54/100\n",
      "8000/8000 [==============================] - 1s 157us/step - loss: 0.4013 - acc: 0.8346\n",
      "Epoch 55/100\n",
      "8000/8000 [==============================] - 1s 163us/step - loss: 0.4015 - acc: 0.8344\n",
      "Epoch 56/100\n",
      "8000/8000 [==============================] - 1s 159us/step - loss: 0.4006 - acc: 0.8351\n",
      "Epoch 57/100\n",
      "8000/8000 [==============================] - 1s 160us/step - loss: 0.4009 - acc: 0.8341\n",
      "Epoch 58/100\n",
      "8000/8000 [==============================] - 1s 158us/step - loss: 0.4011 - acc: 0.8336\n",
      "Epoch 59/100\n",
      "8000/8000 [==============================] - 1s 159us/step - loss: 0.4004 - acc: 0.8354\n",
      "Epoch 60/100\n",
      "8000/8000 [==============================] - 1s 157us/step - loss: 0.4007 - acc: 0.8346\n",
      "Epoch 61/100\n",
      "8000/8000 [==============================] - 1s 155us/step - loss: 0.4010 - acc: 0.8350\n",
      "Epoch 62/100\n",
      "8000/8000 [==============================] - 1s 158us/step - loss: 0.4006 - acc: 0.8355\n",
      "Epoch 63/100\n",
      "8000/8000 [==============================] - 1s 159us/step - loss: 0.4009 - acc: 0.8347\n",
      "Epoch 64/100\n",
      "8000/8000 [==============================] - 1s 160us/step - loss: 0.4003 - acc: 0.8350\n",
      "Epoch 65/100\n",
      "8000/8000 [==============================] - 1s 157us/step - loss: 0.4006 - acc: 0.8351\n",
      "Epoch 66/100\n",
      "8000/8000 [==============================] - 1s 158us/step - loss: 0.4007 - acc: 0.8361\n",
      "Epoch 67/100\n",
      "8000/8000 [==============================] - 1s 157us/step - loss: 0.4008 - acc: 0.8340\n",
      "Epoch 68/100\n",
      "8000/8000 [==============================] - 1s 160us/step - loss: 0.4007 - acc: 0.8350\n",
      "Epoch 69/100\n",
      "8000/8000 [==============================] - 1s 161us/step - loss: 0.4007 - acc: 0.8359\n",
      "Epoch 70/100\n",
      "8000/8000 [==============================] - 1s 160us/step - loss: 0.4005 - acc: 0.8341\n",
      "Epoch 71/100\n",
      "8000/8000 [==============================] - 1s 173us/step - loss: 0.4001 - acc: 0.8356\n",
      "Epoch 72/100\n",
      "8000/8000 [==============================] - 1s 157us/step - loss: 0.4010 - acc: 0.8359\n",
      "Epoch 73/100\n",
      "8000/8000 [==============================] - 1s 155us/step - loss: 0.4006 - acc: 0.8345\n",
      "Epoch 74/100\n",
      "8000/8000 [==============================] - 1s 153us/step - loss: 0.4004 - acc: 0.8352\n",
      "Epoch 75/100\n",
      "8000/8000 [==============================] - 1s 158us/step - loss: 0.4003 - acc: 0.8360\n",
      "Epoch 76/100\n",
      "8000/8000 [==============================] - 1s 157us/step - loss: 0.4005 - acc: 0.8356\n",
      "Epoch 77/100\n",
      "8000/8000 [==============================] - 1s 159us/step - loss: 0.4000 - acc: 0.8336\n",
      "Epoch 78/100\n",
      "8000/8000 [==============================] - 1s 155us/step - loss: 0.4004 - acc: 0.8372\n",
      "Epoch 79/100\n",
      "8000/8000 [==============================] - 2s 194us/step - loss: 0.4002 - acc: 0.8351\n",
      "Epoch 80/100\n",
      "8000/8000 [==============================] - 1s 169us/step - loss: 0.4001 - acc: 0.8354\n",
      "Epoch 81/100\n",
      "8000/8000 [==============================] - 1s 158us/step - loss: 0.4001 - acc: 0.8350\n",
      "Epoch 82/100\n"
     ]
    },
    {
     "name": "stdout",
     "output_type": "stream",
     "text": [
      "8000/8000 [==============================] - 1s 160us/step - loss: 0.4003 - acc: 0.8351\n",
      "Epoch 83/100\n",
      "8000/8000 [==============================] - 1s 155us/step - loss: 0.4006 - acc: 0.8344\n",
      "Epoch 84/100\n",
      "8000/8000 [==============================] - 1s 155us/step - loss: 0.4002 - acc: 0.8354\n",
      "Epoch 85/100\n",
      "8000/8000 [==============================] - 1s 156us/step - loss: 0.4001 - acc: 0.8349\n",
      "Epoch 86/100\n",
      "8000/8000 [==============================] - 1s 154us/step - loss: 0.4003 - acc: 0.8355\n",
      "Epoch 87/100\n",
      "8000/8000 [==============================] - 1s 170us/step - loss: 0.4005 - acc: 0.8346\n",
      "Epoch 88/100\n",
      "8000/8000 [==============================] - 1s 174us/step - loss: 0.3999 - acc: 0.8346\n",
      "Epoch 89/100\n",
      "8000/8000 [==============================] - 1s 154us/step - loss: 0.4000 - acc: 0.8362\n",
      "Epoch 90/100\n",
      "8000/8000 [==============================] - 1s 156us/step - loss: 0.4000 - acc: 0.8359\n",
      "Epoch 91/100\n",
      "8000/8000 [==============================] - 1s 152us/step - loss: 0.3999 - acc: 0.8344\n",
      "Epoch 92/100\n",
      "8000/8000 [==============================] - 1s 156us/step - loss: 0.3996 - acc: 0.8361\n",
      "Epoch 93/100\n",
      "8000/8000 [==============================] - 1s 156us/step - loss: 0.4000 - acc: 0.8345\n",
      "Epoch 94/100\n",
      "8000/8000 [==============================] - 1s 155us/step - loss: 0.4004 - acc: 0.8354\n",
      "Epoch 95/100\n",
      "8000/8000 [==============================] - 1s 156us/step - loss: 0.3999 - acc: 0.8342\n",
      "Epoch 96/100\n",
      "8000/8000 [==============================] - 1s 157us/step - loss: 0.3998 - acc: 0.8351\n",
      "Epoch 97/100\n",
      "8000/8000 [==============================] - 1s 155us/step - loss: 0.4004 - acc: 0.8359\n",
      "Epoch 98/100\n",
      "8000/8000 [==============================] - 1s 157us/step - loss: 0.4001 - acc: 0.8344\n",
      "Epoch 99/100\n",
      "8000/8000 [==============================] - 1s 153us/step - loss: 0.4002 - acc: 0.8332\n",
      "Epoch 100/100\n",
      "8000/8000 [==============================] - 1s 156us/step - loss: 0.4000 - acc: 0.8337\n"
     ]
    }
   ],
   "source": [
    "# Initialising the ANN\n",
    "classifier = Sequential()\n",
    "# Adding the input layer and the first hidden layer\n",
    "# Just your regular densely-connected NN layer. All neurons the same activation function\n",
    "# can be defined activation functions by neuron\n",
    "classifier.add(Dense(output_dim = 6, init = 'uniform', activation = 'relu', input_dim = 11))\n",
    "\n",
    "# Adding the second hidden layer\n",
    "classifier.add(Dense(output_dim = 6, init = 'uniform', activation = 'relu'))\n",
    "\n",
    "# Adding the output layer\n",
    "classifier.add(Dense(output_dim = 1, init = 'uniform', activation = 'sigmoid'))\n",
    "\n",
    "# Compiling the ANN\n",
    "# optimizer Stochastic gradient descent = SGD\n",
    "# loss = mean square error = mean_square_error\n",
    "classifier.compile(optimizer = 'adam', loss = 'binary_crossentropy', metrics = ['accuracy'])\n",
    "\n",
    "# Fitting the ANN to the Training set\n",
    "# batch size ( data to be trained at a time)\n",
    "# nb_epoch (number of epochs needed to train the ANN)\n",
    "classifier.fit(X_train, y_train, batch_size = 5, nb_epoch = 100)\n",
    "\n",
    "# Part 3 - Making the predictions and evaluating the model\n",
    "\n",
    "# Predicting the Test set results\n",
    "y_pred = classifier.predict(X_test)\n",
    "y_pred\n",
    "y_pred = (y_pred > 0.5)\n",
    "\n",
    "# Making the Confusion Matrix\n",
    "from sklearn.metrics import confusion_matrix\n",
    "cm = confusion_matrix(y_test, y_pred)"
   ]
  },
  {
   "cell_type": "code",
   "execution_count": null,
   "metadata": {},
   "outputs": [],
   "source": []
  },
  {
   "cell_type": "code",
   "execution_count": 163,
   "metadata": {},
   "outputs": [
    {
     "data": {
      "text/plain": [
       "array([[1532,   63],\n",
       "       [ 254,  151]])"
      ]
     },
     "execution_count": 163,
     "metadata": {},
     "output_type": "execute_result"
    }
   ],
   "source": [
    "cm"
   ]
  },
  {
   "cell_type": "code",
   "execution_count": 164,
   "metadata": {},
   "outputs": [
    {
     "data": {
      "text/plain": [
       "84.15"
      ]
     },
     "execution_count": 164,
     "metadata": {},
     "output_type": "execute_result"
    }
   ],
   "source": [
    "((cm[0][0]+cm[1][1])/(np.sum(cm)))*100"
   ]
  },
  {
   "cell_type": "code",
   "execution_count": null,
   "metadata": {},
   "outputs": [],
   "source": []
  },
  {
   "cell_type": "code",
   "execution_count": null,
   "metadata": {},
   "outputs": [],
   "source": []
  }
 ],
 "metadata": {
  "kernelspec": {
   "display_name": "Python 3",
   "language": "python",
   "name": "python3"
  },
  "language_info": {
   "codemirror_mode": {
    "name": "ipython",
    "version": 3
   },
   "file_extension": ".py",
   "mimetype": "text/x-python",
   "name": "python",
   "nbconvert_exporter": "python",
   "pygments_lexer": "ipython3",
   "version": "3.6.5"
  }
 },
 "nbformat": 4,
 "nbformat_minor": 2
}
